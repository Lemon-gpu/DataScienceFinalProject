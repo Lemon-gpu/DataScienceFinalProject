{
 "cells": [
  {
   "cell_type": "code",
   "execution_count": 1,
   "metadata": {},
   "outputs": [],
   "source": [
    "import torch\n",
    "import torch.nn as nn\n",
    "import os\n",
    "from pathlib import Path\n",
    "from torchtext.vocab import Vocab\n",
    "import pandas as pd\n",
    "from tokenizers import Tokenizer\n",
    "import math"
   ]
  },
  {
   "cell_type": "code",
   "execution_count": null,
   "metadata": {},
   "outputs": [],
   "source": [
    "model: nn.Module = torch.load('Core/BERT/model/model.pt')\n",
    "enVocab: Vocab = torch.load('Core/BERT/model/vocab_en.pt')\n",
    "zhVocab: Vocab = torch.load('Core/BERT/model/vocab_zh.pt')"
   ]
  },
  {
   "cell_type": "code",
   "execution_count": null,
   "metadata": {},
   "outputs": [],
   "source": [
    "class Translation:\n",
    "\n",
    "    model: nn.Module  = None\n",
    "    enVocab: Vocab = None\n",
    "    zhVocab: Vocab = None\n",
    "    tokenizer: Tokenizer = None\n",
    "    device = None\n",
    "\n",
    "    def __init__(self, model: nn.Module, enVocab: Vocab, zhVocab: Vocab):\n",
    "        self.model = model\n",
    "        self.enVocab = enVocab\n",
    "        self.zhVocab = zhVocab\n",
    "        self.tokenizer = Tokenizer.from_pretrained('bert-base-uncased')\n",
    "        self.device = torch.device(\"cuda\" if torch.cuda.is_available() else \"cpu\")\n",
    "        self.maxLength = 72\n",
    "    \n",
    "    def translation(self, text: str) -> str:\n",
    "        # 将与原句子分词后，通过词典转为index，然后增加<bos>和<eos>\n",
    "        src = torch.tensor([0] + self.enVocab(self.enTokenizer(src)) + [1]).unsqueeze(0).to(self.device)\n",
    "        # 首次tgt为<bos>\n",
    "        tgt = torch.tensor([[0]]).to(self.device)\n",
    "        # 一个一个词预测，直到预测为<eos>，或者达到句子最大长度\n",
    "        for i in range(self.maxLength):\n",
    "            # 进行transformer计算\n",
    "            out = self.model(src, tgt)\n",
    "            # 预测结果，因为只需要看最后一个词，所以取`out[:, -1]`\n",
    "            predict = self.model.predictor(out[:, -1])\n",
    "            # 找出最大值的index\n",
    "            y = torch.argmax(predict, dim=1)\n",
    "            # 和之前的预测结果拼接到一起\n",
    "            tgt = torch.concat([tgt, y.unsqueeze(0)], dim=1)\n",
    "            # 如果为<eos>，说明预测结束，跳出循环\n",
    "            if y == 1:\n",
    "                break\n",
    "        # 将预测tokens拼起来\n",
    "        tgt = ''.join(self.zhVocab.lookup_tokens(tgt.squeeze().tolist())).replace(\"<s>\", \"\").replace(\"</s>\", \"\")\n",
    "        return tgt\n",
    "    \n",
    "    def enTokenizer(text: str) -> list[str]:\n",
    "        pass\n",
    "\n",
    "    def __call__(self, text: str) -> str:\n",
    "        return self.translation(text)"
   ]
  },
  {
   "cell_type": "code",
   "execution_count": null,
   "metadata": {},
   "outputs": [],
   "source": [
    "def sentimentClassification(text: str) -> int:\n",
    "    if text == 'positive':\n",
    "        return 2\n",
    "    elif text == 'neutral':\n",
    "        return 1\n",
    "    else:\n",
    "        return 0\n"
   ]
  },
  {
   "cell_type": "code",
   "execution_count": null,
   "metadata": {},
   "outputs": [],
   "source": [
    "def readFile(filePath: str) -> list[dict]:\n",
    "    result: list[dict] = []\n",
    "    with open(filePath, \"r\", encoding=\"utf-8\") as f:\n",
    "        for line in f:\n",
    "            segment: list[str] = line.split(\"@\")\n",
    "            content: str = ''.join(segment[0: -1])\n",
    "            content = Translation(model, enVocab, zhVocab)(content)\n",
    "            sentiment = sentimentClassification(segment[-1])\n",
    "            result.append({\n",
    "                \"content\": content,\n",
    "                \"sentiment\": sentiment\n",
    "            })\n",
    "    return result\n",
    "\n",
    "def readFiles(filePath: str) -> pd.DataFrame:\n",
    "    result: list[dict] = []\n",
    "    for files in os.listdir(filePath):\n",
    "        result.append(readFile(os.join(filePath, files)))\n",
    "    return pd.DataFrame(result)\n",
    "    \n",
    "def writeFiles(filePath: str, data: pd.DataFrame):\n",
    "    data.to_csv(filePath, index=False)"
   ]
  }
 ],
 "metadata": {
  "kernelspec": {
   "display_name": "Project",
   "language": "python",
   "name": "python3"
  },
  "language_info": {
   "codemirror_mode": {
    "name": "ipython",
    "version": 3
   },
   "file_extension": ".py",
   "mimetype": "text/x-python",
   "name": "python",
   "nbconvert_exporter": "python",
   "pygments_lexer": "ipython3",
   "version": "3.9.16"
  },
  "orig_nbformat": 4
 },
 "nbformat": 4,
 "nbformat_minor": 2
}
